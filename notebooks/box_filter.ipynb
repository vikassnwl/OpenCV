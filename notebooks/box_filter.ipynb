{
 "cells": [
  {
   "cell_type": "code",
   "execution_count": 67,
   "id": "a937808f",
   "metadata": {},
   "outputs": [],
   "source": [
    "def get_mirror_cell_pos(r, c, kernel_size, img_h, img_w):\n",
    "    cell_to_right = c+kernel_size-1\n",
    "    cell_to_left = c-kernel_size+1\n",
    "    cell_to_top = r-kernel_size+1\n",
    "    cell_to_bottom = r+kernel_size-1\n",
    "    if cell_to_right < img_w and r < img_h and r >= 0:\n",
    "        return r, cell_to_right\n",
    "    if cell_to_left >= 0 and r < img_h and r >=0:\n",
    "        return r, cell_to_left\n",
    "    if cell_to_top >= 0 and c < img_w and c >= 0:\n",
    "        return cell_to_top, c\n",
    "    if cell_to_bottom < img_h and c < img_w and c >= 0:\n",
    "        return cell_to_bottom, c\n",
    "    if cell_to_right < img_w and cell_to_top >= 0:\n",
    "        return cell_to_top, cell_to_right\n",
    "    if cell_to_right < img_w and cell_to_bottom < img_h:\n",
    "        return cell_to_bottom, cell_to_right\n",
    "    if cell_to_left >= 0 and cell_to_top >= 0:\n",
    "        return cell_to_top, cell_to_left\n",
    "    if cell_to_left >= 0 and cell_to_bottom < img_h:\n",
    "        return cell_to_bottom, cell_to_left"
   ]
  },
  {
   "cell_type": "code",
   "execution_count": 68,
   "id": "f660620b",
   "metadata": {},
   "outputs": [],
   "source": [
    "def custom_blur(img, kernel_size, border_type='Default'):\n",
    "    # creating output imgage of same size as input image\n",
    "    h, w = img.shape[:2]\n",
    "    output_img = np.zeros((h, w), np.uint8)\n",
    "    for i in range(len(img)):\n",
    "        for j in range(len(img[0])):\n",
    "            # top-left cell's position of kernel after placing it's center over a pixel\n",
    "            r = i-kernel_size//2\n",
    "            c = j-kernel_size//2\n",
    "            # iterating over the kernel and taking average of pixels\n",
    "            total = 0\n",
    "            for m in range(r, r+kernel_size):\n",
    "                for n in range(c, c+kernel_size):\n",
    "                    # checking if the cell of the kernel is out of bound or not\n",
    "                    if m < 0 or m > len(img)-1 or n < 0 or n > len(img[0])-1:\n",
    "                        # out of bound\n",
    "                        m, n = get_mirror_cell_pos(m, n, kernel_size, h, w)\n",
    "                        total += img[m][n]\n",
    "                    else:\n",
    "                        total += img[m][n]\n",
    "                avg = round(total/(kernel_size**2))\n",
    "                # placing avg on the pixel under center of ther kernel\n",
    "                output_img[i][j] = avg\n",
    "    return output_img"
   ]
  },
  {
   "cell_type": "code",
   "execution_count": 69,
   "id": "88b8e9f0",
   "metadata": {},
   "outputs": [
    {
     "data": {
      "text/plain": [
       "array([[ 81, 102,  48,  58, 110],\n",
       "       [232,  35, 198, 103, 236],\n",
       "       [161,   1, 227,  28,  16],\n",
       "       [126,  53,  43, 156,  26],\n",
       "       [188, 120,  45, 124, 173]])"
      ]
     },
     "execution_count": 69,
     "metadata": {},
     "output_type": "execute_result"
    }
   ],
   "source": [
    "img = np.empty((0, 5), np.uint8)\n",
    "for i in range(5):\n",
    "    img = np.append(img, np.random.randint(0, 255, (1, 5)), axis=0)\n",
    "img"
   ]
  },
  {
   "cell_type": "code",
   "execution_count": 72,
   "id": "7947263f",
   "metadata": {},
   "outputs": [],
   "source": [
    "my_custom_blur = custom_blur(img, 3)\n",
    "blur = cv2.blur(img, (3, 3))"
   ]
  },
  {
   "cell_type": "code",
   "execution_count": 75,
   "id": "bc3f5c04",
   "metadata": {},
   "outputs": [
    {
     "data": {
      "text/plain": [
       "(array([[ 99, 129,  98, 143, 123],\n",
       "        [ 83, 121,  89, 114,  82],\n",
       "        [ 77, 120,  94, 115,  95],\n",
       "        [ 91, 107,  89,  93,  92],\n",
       "        [ 99,  89,  88,  88, 122]], dtype=int32),\n",
       " array([[ 99, 129,  98, 143, 123],\n",
       "        [ 83, 121,  89, 114,  82],\n",
       "        [ 77, 120,  94, 115,  95],\n",
       "        [ 91, 107,  89,  93,  92],\n",
       "        [ 99,  89,  88,  88, 122]], dtype=uint8))"
      ]
     },
     "execution_count": 75,
     "metadata": {},
     "output_type": "execute_result"
    }
   ],
   "source": [
    "blur, my_custom_blur"
   ]
  },
  {
   "cell_type": "code",
   "execution_count": null,
   "id": "0040d2cb",
   "metadata": {},
   "outputs": [],
   "source": []
  }
 ],
 "metadata": {
  "kernelspec": {
   "display_name": "Python 3 (ipykernel)",
   "language": "python",
   "name": "python3"
  },
  "language_info": {
   "codemirror_mode": {
    "name": "ipython",
    "version": 3
   },
   "file_extension": ".py",
   "mimetype": "text/x-python",
   "name": "python",
   "nbconvert_exporter": "python",
   "pygments_lexer": "ipython3",
   "version": "3.8.10"
  }
 },
 "nbformat": 4,
 "nbformat_minor": 5
}
